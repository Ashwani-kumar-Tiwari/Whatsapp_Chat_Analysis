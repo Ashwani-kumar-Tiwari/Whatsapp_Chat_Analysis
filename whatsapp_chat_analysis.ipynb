{
 "cells": [
  {
   "cell_type": "code",
   "execution_count": null,
   "metadata": {},
   "outputs": [],
   "source": [
    "import pandas as pd\n",
    "import numpy as np\n",
    "import re\n",
    "import dateparser\n",
    "from collections import Counter\n",
    "import matplotlib.pyplot as plt\n",
    "plt.style.use('ggplot')"
   ]
  },
  {
   "cell_type": "code",
   "execution_count": null,
   "metadata": {},
   "outputs": [],
   "source": [
    " def read_file(file):\n",
    "    '''Reads Whatsapp text file into a list of strings''' \n",
    "\n",
    "    x = open(file,'r', encoding = 'utf-8') #Opens the text file into variable x but the variable cannot be explored yet\n",
    "    y = x.read() #By now it becomes a huge chunk of string that we need to separate line by line\n",
    "    content = y.splitlines() #The splitline method converts the chunk of string into a list of strings\n",
    "    return content\n",
    "chat = read_file('WhatsApp Chat text.txt')\n",
    "len(chat)"
   ]
  },
  {
   "cell_type": "code",
   "execution_count": null,
   "metadata": {},
   "outputs": [],
   "source": [
    "join = [line for line in chat if  \"joined using this\" in line]\n",
    "join"
   ]
  },
  {
   "cell_type": "code",
   "execution_count": null,
   "metadata": {},
   "outputs": [],
   "source": [
    " #Remove new lines\n",
    "chat = [line.strip() for line in chat]\n",
    "print(\"length of chat is:\")\n",
    "print(len(chat))"
   ]
  },
  {
   "cell_type": "code",
   "execution_count": null,
   "metadata": {},
   "outputs": [],
   "source": [
    "#Clean out the join notification lines\n",
    "clean_chat = [line for line in chat if not \"joined using this\" in line]\n",
    "\n",
    "#Further cleaning\n",
    "#Remove empty lines\n",
    "clean_chat = [line for line in clean_chat if len(line) > 1]\n",
    "print(\"length of clean_chat is:\")\n",
    "print(len(clean_chat))"
   ]
  },
  {
   "cell_type": "code",
   "execution_count": null,
   "metadata": {},
   "outputs": [],
   "source": [
    " #Drop 'left-ers'\n",
    "left = [line for line in clean_chat if line.endswith(\"left\")]\n",
    "left "
   ]
  },
  {
   "cell_type": "code",
   "execution_count": null,
   "metadata": {},
   "outputs": [],
   "source": [
    "#Clean out the left notification lines\n",
    "clean_chat = [line for line in clean_chat if not line.endswith(\"left\")]\n",
    "print(len(clean_chat))"
   ]
  },
  {
   "cell_type": "code",
   "execution_count": null,
   "metadata": {},
   "outputs": [],
   "source": [
    "#Merge messages that belong together\n",
    "msgs = [] #message container\n",
    "pos = 0 #counter for position of msgs in the container\n",
    "\"\"\"\n",
    "Flow:\n",
    "For every line, see if it matches the expression which is starting with the format \"number(s)+slash\" eg \"12/\"\n",
    "If it does, it is a new line of conversion as they begin with dates, add it to msgs container\n",
    "Else, it is a continuation of the previous line, add it to the previous line and append to msgs, then pop previous line.\n",
    "\"\"\"\n",
    "for line in clean_chat:\n",
    "    if re.findall(\"\\A\\d+[/]\", line):\n",
    "        msgs.append(line)\n",
    "        pos += 1\n",
    "    else:\n",
    "        take = msgs[pos-1] + \". \" + line\n",
    "        msgs.append(take)\n",
    "        msgs.pop(pos-1)\n",
    "len(msgs)"
   ]
  },
  {
   "cell_type": "code",
   "execution_count": null,
   "metadata": {},
   "outputs": [],
   "source": [
    "msgs[0:10]"
   ]
  },
  {
   "cell_type": "code",
   "execution_count": null,
   "metadata": {},
   "outputs": [],
   "source": [
    "time = [msgs[i].split(',')[1].split('-')[0] for i in range(len(msgs))]\n",
    "time = [s.strip(' ') for s in time] # Remove spacing\n",
    "print(\"length of time is:\")\n",
    "print(len(time))\n",
    "time"
   ]
  },
  {
   "cell_type": "code",
   "execution_count": null,
   "metadata": {},
   "outputs": [],
   "source": [
    "date = [msgs[i].split(',')[0] for i in range(len(msgs))]\n",
    "len(date) \n",
    "\n",
    "name = [msgs[i].split('-')[1].split(':')[0] for i in range(len(msgs))]\n",
    "len(name) \n",
    "\n",
    "content = []\n",
    "for i in range(len(msgs)):\n",
    "  try:\n",
    "    content.append(msgs[i].split(':')[2])\n",
    "  except IndexError:\n",
    "    content.append('Missing Text')\n",
    "len(content)"
   ]
  },
  {
   "cell_type": "code",
   "execution_count": null,
   "metadata": {},
   "outputs": [],
   "source": [
    "df = pd.DataFrame(list(zip(date, time, name, content)), columns = ['Date', 'Time', 'Name', 'Content'])\n",
    "df "
   ]
  },
  {
   "cell_type": "code",
   "execution_count": null,
   "metadata": {},
   "outputs": [],
   "source": [
    "df = df[df[\"Content\"]!='Missing Text']\n",
    "df.reset_index(inplace=True, drop=True)\n",
    "df"
   ]
  },
  {
   "cell_type": "code",
   "execution_count": null,
   "metadata": {},
   "outputs": [],
   "source": [
    "df['DateTime'] = pd.to_datetime(df['Date'] + ' ' + df['Time'])\n",
    "df['DateTime'] "
   ]
  },
  {
   "cell_type": "code",
   "execution_count": null,
   "metadata": {},
   "outputs": [],
   "source": [
    "df['weekday'] = df['DateTime'].apply(lambda x: x.day_name())"
   ]
  },
  {
   "cell_type": "code",
   "execution_count": null,
   "metadata": {},
   "outputs": [],
   "source": [
    "df['Letter_Count'] = df['Content'].apply(lambda s : len(s)) -1\n",
    "df['Word_Count'] = df['Content'].apply(lambda s : len(s.split(' ')))-1"
   ]
  },
  {
   "cell_type": "code",
   "execution_count": null,
   "metadata": {},
   "outputs": [],
   "source": [
    "df['Hour'] = df['Time'].apply(lambda x : x.split(':')[0]) \n",
    "# The first token of a value in the Time Column contains the hour (Eg., \"12\" in \"12:15\")"
   ]
  },
  {
   "cell_type": "code",
   "execution_count": null,
   "metadata": {},
   "outputs": [],
   "source": [
    "import emoji\n",
    "def extract_emojis(columnname):\n",
    "    emojis=[]\n",
    "    for string in df[columnname]:\n",
    "        my_str = str(string)\n",
    "        for each in my_str:\n",
    "            if each in emoji.UNICODE_EMOJI:\n",
    "                emojis.append(each)\n",
    "                df['emoji'] = each\n",
    "    return emojis\n",
    "emoji = extract_emojis('Content')\n",
    "print(emoji)"
   ]
  },
  {
   "cell_type": "code",
   "execution_count": null,
   "metadata": {},
   "outputs": [],
   "source": [
    "#print first five rows of our dataframe\n",
    "df.head()"
   ]
  },
  {
   "cell_type": "code",
   "execution_count": null,
   "metadata": {},
   "outputs": [],
   "source": [
    "#saving to csv format\n",
    "df.to_csv(\"WhatsApp Chat text.csv\")"
   ]
  },
  {
   "cell_type": "code",
   "execution_count": null,
   "metadata": {},
   "outputs": [],
   "source": [
    "df=pd.read_csv(\"WhatsApp Chat text.csv\")"
   ]
  },
  {
   "cell_type": "code",
   "execution_count": null,
   "metadata": {},
   "outputs": [],
   "source": [
    "df = df.drop(['Unnamed: 0'], axis=1)\n",
    "df.describe()"
   ]
  },
  {
   "cell_type": "code",
   "execution_count": null,
   "metadata": {},
   "outputs": [],
   "source": [
    "import matplotlib.pyplot as plt\n",
    "author_value_counts = df['Date'].value_counts() # Number of messages per author\n",
    "top_10_author_value_counts = author_value_counts.head(10) # Number of messages per author for the top 10 most active authors\n",
    "plt.xlabel('Top 10 dates on which we have recieved maximun megssages')\n",
    "plt.title('Whatsapp chat Analysis done by Ashwani Kumar Tiwari')\n",
    "top_10_author_value_counts.plot.barh() # Plot a bar chart using pandas built-in plotting apis"
   ]
  },
  {
   "cell_type": "code",
   "execution_count": null,
   "metadata": {},
   "outputs": [],
   "source": [
    "import matplotlib.pyplot as plt\n",
    "author_value_counts = df['Date'].value_counts() # Number of messages per author\n",
    "top_10_author_value_counts = author_value_counts.tail(10) # Number of messages per author for the top 10 most active authors\n",
    "plt.xlabel('Top 10 dates on which we have recieved minimun megssages')\n",
    "plt.title('Whatsapp chat Analysis done by Ashwani Kumar Tiwari')\n",
    "top_10_author_value_counts.plot.barh() # Plot a bar chart using pandas built-in plotting apis"
   ]
  },
  {
   "cell_type": "code",
   "execution_count": null,
   "metadata": {},
   "outputs": [],
   "source": [
    "import matplotlib.pyplot as plt\n",
    "author_value_counts = df['Time'].value_counts() # Number of messages per author\n",
    "top_10_author_value_counts = author_value_counts.head(10) # Number of messages per author for the top 10 most active authors\n",
    "plt.xlabel('At which time we have recieved maximun megssages')\n",
    "plt.title('Whatsapp chat Analysis done by Ashwani Kumar Tiwari')\n",
    "top_10_author_value_counts.plot.barh()"
   ]
  },
  {
   "cell_type": "code",
   "execution_count": null,
   "metadata": {},
   "outputs": [],
   "source": [
    "import matplotlib.pyplot as plt\n",
    "author_value_counts = df['Time'].value_counts() # Number of messages per author\n",
    "top_10_author_value_counts = author_value_counts.tail(10) # Number of messages per author for the top 10 most active authors\n",
    "plt.xlabel('At which time we have recieved minimun megssages')\n",
    "plt.title('Whatsapp chat Analysis done by Ashwani Kumar Tiwari')\n",
    "top_10_author_value_counts.plot.barh()"
   ]
  },
  {
   "cell_type": "code",
   "execution_count": null,
   "metadata": {},
   "outputs": [],
   "source": [
    "from __future__ import unicode_literals\n",
    "import matplotlib.pyplot as plt\n",
    "author_value_counts = df['Content'].value_counts() # Number of messages per author\n",
    "top_10_author_value_counts = author_value_counts.head(10) # Number of messages per author for the top 10 most active authors\n",
    "plt.xlabel('Top 10 most used words')\n",
    "plt.title('Whatsapp chat Analysis done by Ashwani Kumar Tiwari')\n",
    "top_10_author_value_counts.plot.barh()"
   ]
  },
  {
   "cell_type": "code",
   "execution_count": null,
   "metadata": {},
   "outputs": [],
   "source": [
    "import matplotlib.pyplot as plt\n",
    "author_value_counts = df['Content'].value_counts() # Number of messages per author\n",
    "top_10_author_value_counts = author_value_counts.tail(10) # Number of messages per author for the top 10 most active authors\n",
    "plt.xlabel('Top 10 least used words')\n",
    "plt.title('Whatsapp chat Analysis done by Ashwani Kumar Tiwari')\n",
    "top_10_author_value_counts.plot.barh()"
   ]
  },
  {
   "cell_type": "code",
   "execution_count": null,
   "metadata": {},
   "outputs": [],
   "source": [
    "import matplotlib.pyplot as plt\n",
    "author_value_counts = df['Name'].value_counts() # Number of messages per author\n",
    "top_10_author_value_counts = author_value_counts.head(10) # Number of messages per author for the top 10 most active authors\n",
    "plt.xlabel('Top ten member with maximum messages')\n",
    "plt.title('Whatsapp chat Analysis done by Ashwani Kumar Tiwari')\n",
    "top_10_author_value_counts.plot.barh()"
   ]
  },
  {
   "cell_type": "code",
   "execution_count": null,
   "metadata": {},
   "outputs": [],
   "source": [
    "import matplotlib.pyplot as plt\n",
    "author_value_counts = df['Name'].value_counts() # Number of messages per author\n",
    "top_10_author_value_counts = author_value_counts.tail(10) # Number of messages per author for the top 10 most active authors\n",
    "plt.xlabel('Top ten member with minimum messages')\n",
    "plt.title('Whatsapp chat Analysis done by Ashwani Kumar Tiwari')\n",
    "top_10_author_value_counts.plot.barh()"
   ]
  },
  {
   "cell_type": "code",
   "execution_count": null,
   "metadata": {},
   "outputs": [],
   "source": []
  }
 ],
 "metadata": {
  "kernelspec": {
   "display_name": "Python 3",
   "language": "python",
   "name": "python3"
  },
  "language_info": {
   "codemirror_mode": {
    "name": "ipython",
    "version": 3
   },
   "file_extension": ".py",
   "mimetype": "text/x-python",
   "name": "python",
   "nbconvert_exporter": "python",
   "pygments_lexer": "ipython3",
   "version": "3.7.0"
  }
 },
 "nbformat": 4,
 "nbformat_minor": 2
}
